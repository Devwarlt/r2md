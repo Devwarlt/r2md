{
 "cells": [
  {
   "cell_type": "code",
   "execution_count": 3,
   "metadata": {},
   "outputs": [],
   "source": [
    "from splinter import Browser\n",
    "from splinter.element_list import ElementList\n",
    "from splinter.driver import ElementAPI\n",
    "from selenium.webdriver import ChromeOptions"
   ]
  },
  {
   "cell_type": "code",
   "execution_count": 139,
   "metadata": {},
   "outputs": [],
   "source": [
    "# Init Settings\n",
    "rancher_settings: dict = {\n",
    "    'url': 'https://rancher.fabrica.local/',\n",
    "    'username': r'',\n",
    "    'password': '',\n",
    "    'cluster': '',\n",
    "    'projects': [ ]\n",
    "}"
   ]
  },
  {
   "cell_type": "code",
   "execution_count": 140,
   "metadata": {
    "jupyter": {
     "source_hidden": true
    }
   },
   "outputs": [],
   "source": [
    "# Chrome Driver Settings\n",
    "options: ChromeOptions = ChromeOptions()\n",
    "options.add_argument('--start-maximized')\n",
    "settings: dict = {\n",
    "    'incognito': True,\n",
    "    'headless': False,\n",
    "    'options': options,\n",
    "    'executable_path': 'chromedriver'\n",
    "}"
   ]
  },
  {
   "cell_type": "code",
   "execution_count": 141,
   "metadata": {},
   "outputs": [],
   "source": [
    "# Init Browser\n",
    "browser: Browser = None\n",
    "\n",
    "try:\n",
    "    browser = Browser(\"chrome\", **settings)\n",
    "except SessionNotCreatedException as error:\n",
    "    raise Exception(\n",
    "        \"R2MD couldn't start ChromeDriver properly! \"\n",
    "        \"Make sure you are using right version. For \"\n",
    "        \"more details consider to visit \"\n",
    "        \"https://chromedriver.chromium.org/downloads \"\n",
    "        \"and download a valid driver compatible with \"\n",
    "        \"your Chrome version.\\n\"\n",
    "        f\"- Error: {error}\")"
   ]
  },
  {
   "cell_type": "code",
   "execution_count": 142,
   "metadata": {},
   "outputs": [],
   "source": [
    "# Access page\n",
    "browser.visit(rancher_settings.get('url'))"
   ]
  },
  {
   "cell_type": "code",
   "execution_count": 144,
   "metadata": {},
   "outputs": [],
   "source": [
    "def __get_url(destination: str) -> str:\n",
    "    base_url:str = rancher_settings.get('url')\n",
    "    if not destination.startswith('/'):\n",
    "        destination = f'/{destination}'\n",
    "    \n",
    "    return f'{base_url}{destination}'\n",
    "\n",
    "def __fetch_and_click_by_id(browser: Browser, item_id: str, **kwargs: dict) -> bool:\n",
    "    id_list: ElementList = browser.find_by_id(item_id)\n",
    "    if id_list.is_empty():\n",
    "        error: str = f\"Unable to find any element with ID '{item_id}'!\"\n",
    "        \n",
    "        if kwargs.get('raise_exception'):\n",
    "            raise Exception(error)\n",
    "        else:\n",
    "            print(error)\n",
    "\n",
    "        return False\n",
    "        \n",
    "    if kwargs.get('multiple'):\n",
    "        for i in range(len(id_list)):\n",
    "            id_item: ElementAPI = id_list[i]\n",
    "            id_item.click()\n",
    "    else:\n",
    "        first_id_item: ElementAPI = id_list.first\n",
    "        first_id_item.click()\n",
    "\n",
    "    return True\n",
    "\n",
    "def __fill_by_id(browser: Browser, item_id: str, value: str, **kwargs: dict) -> None:\n",
    "    id_list: ElementList = browser.find_by_id(item_id)\n",
    "    if id_list.is_empty():\n",
    "        error: str = f\"Unable to find any element with ID '{item_id}'!\"\n",
    "        \n",
    "        if kwargs.get('raise_exception'):\n",
    "            raise Exception(error)\n",
    "        else:\n",
    "            print(error)\n",
    "\n",
    "        return\n",
    "\n",
    "    if kwargs.get('multiple'):\n",
    "        for i in range(len(id_list)):\n",
    "            id_item: ElementAPI = id_list[i]\n",
    "            id_item.fill(value)\n",
    "    else:\n",
    "        first_id_item: ElementAPI = id_list.first\n",
    "        first_id_item.fill(value)\n",
    "\n",
    "def __perform_login(browser: Browser) -> None:\n",
    "    credentials: list = [\n",
    "        {\n",
    "            'item_id': 'login-username-activedirectory',\n",
    "            'value': rancher_settings.get('username'),\n",
    "            'raise_exception': True\n",
    "        },\n",
    "        {\n",
    "            'item_id': 'login-password-activedirectory',\n",
    "            'value': rancher_settings.get('password'),\n",
    "            'raise_exception': True\n",
    "        }\n",
    "    ]\n",
    "\n",
    "    for credential in credentials:\n",
    "        credential: dict = credential\n",
    "        __fill_by_id(browser, **credential)\n",
    "\n",
    "    login_form: ElementList = browser.find_by_css('form[class=\"text-left mt-10\"]')\n",
    "    if login_form.is_empty():\n",
    "        raise Exception(\"Login form not found!\")\n",
    "\n",
    "    login_form_btn: ElementList = login_form.first.find_by_css('p button')\n",
    "    if login_form_btn.is_empty():\n",
    "        raise Exception(\"Login form button not found!\")\n",
    "\n",
    "    login_form_btn: ElementAPI = login_form_btn.first\n",
    "    login_form_btn.click()\n",
    "\n",
    "    error_banner: ElementList = browser.find_by_css('section div[class=\"banner p-10 bg-error\"]')\n",
    "    if not error_banner.is_empty():\n",
    "        error: str = error_banner.first.text\n",
    "        login_url: str = __get_url('/login')\n",
    "\n",
    "        print(f\"Redirecting to login page -> {base_url}\")\n",
    "        browser.visit(login_url)\n",
    "        raise Exception(error)\n",
    "\n",
    "#def __get_project_info(browser: Browser, cluster: str, project: str) -> dict:\n"
   ]
  },
  {
   "cell_type": "code",
   "execution_count": 145,
   "metadata": {},
   "outputs": [],
   "source": [
    "if __fetch_and_click_by_id(browser, 'details-button', raise_exception=True):\n",
    "    __fetch_and_click_by_id(browser, 'proceed-link', raise_exception=True)"
   ]
  },
  {
   "cell_type": "code",
   "execution_count": 146,
   "metadata": {},
   "outputs": [],
   "source": [
    "# Performs login to Rancher\n",
    "__perform_login(browser)"
   ]
  },
  {
   "cell_type": "code",
   "execution_count": 147,
   "metadata": {},
   "outputs": [],
   "source": [
    "# Navigate through cluster\n",
    "cluster_url: str = __get_url('/g/clusters')\n",
    "browser.visit(cluster_url)"
   ]
  },
  {
   "cell_type": "code",
   "execution_count": 148,
   "metadata": {},
   "outputs": [],
   "source": [
    "# Fetch for target cluster\n",
    "cluster_name: str = rancher_settings.get('cluster')\n",
    "clusters: ElementList = browser.find_by_css('main[class=\"clearfix\"] div table tbody tr')\n",
    "if clusters.is_empty():\n",
    "    raise Exception('There is no cluster yet.')\n",
    "\n",
    "for i in range(len(clusters)):\n",
    "    cluster_node: ElementAPI = clusters[i]\n",
    "    cluster: ElementAPI = cluster_node.find_by_css('td[data-title=\"Cluster Name: \"] a')\n",
    "    if cluster.text != cluster_name:\n",
    "        continue\n",
    "\n",
    "    cluster_node.find_by_css('td[class=\"actions\"] div div[role=\"button\"]').first.click()\n",
    "    cluster_actions: ElementList = browser.find_by_css('body div[id=\"ember-basic-dropdown-wormhole\"] div li a')\n",
    "    for j in range(len(cluster_actions)):\n",
    "        cluster_action: ElementAPI = cluster_actions[j]\n",
    "        span_title: ElementList = cluster_action.find_by_css('span[class=\"pull-left\"]')\n",
    "        if span_title.is_empty() or span_title.first.text != \"View in API\":\n",
    "            continue\n",
    "\n",
    "        cluster_action.click()\n",
    "        break\n",
    "    \n",
    "    break"
   ]
  },
  {
   "cell_type": "code",
   "execution_count": 155,
   "metadata": {},
   "outputs": [],
   "source": [
    "# Navigate through projects\n",
    "browser.windows[1].is_current = True\n",
    "browser.click_link_by_partial_href('/projects')"
   ]
  },
  {
   "source": [
    "### TODO\n",
    "I need to navigate through projects JSON data and get their relative URL."
   ],
   "cell_type": "markdown",
   "metadata": {}
  },
  {
   "cell_type": "code",
   "execution_count": null,
   "metadata": {},
   "outputs": [],
   "source": [
    "# Fetch for project info\n",
    "projects: list = rancher_settings.get('projects')\n",
    "projects_info: list = []\n",
    "for project in projects:\n",
    "    project: str = project\n",
    "    project_info: dict = __get_project_info(browser, cluster, project)\n",
    "    projects_info.append(project_info)"
   ]
  },
  {
   "cell_type": "code",
   "execution_count": 2,
   "metadata": {},
   "outputs": [
    {
     "output_type": "error",
     "ename": "NameError",
     "evalue": "name 'browser' is not defined",
     "traceback": [
      "\u001b[1;31m---------------------------------------------------------------------------\u001b[0m",
      "\u001b[1;31mNameError\u001b[0m                                 Traceback (most recent call last)",
      "\u001b[1;32m<ipython-input-2-c65d2b2c4ef9>\u001b[0m in \u001b[0;36m<module>\u001b[1;34m\u001b[0m\n\u001b[0;32m      1\u001b[0m \u001b[1;31m# Close browser\u001b[0m\u001b[1;33m\u001b[0m\u001b[1;33m\u001b[0m\u001b[1;33m\u001b[0m\u001b[0m\n\u001b[1;32m----> 2\u001b[1;33m \u001b[0mbrowser\u001b[0m\u001b[1;33m.\u001b[0m\u001b[0mquit\u001b[0m\u001b[1;33m(\u001b[0m\u001b[1;33m)\u001b[0m\u001b[1;33m\u001b[0m\u001b[1;33m\u001b[0m\u001b[0m\n\u001b[0m",
      "\u001b[1;31mNameError\u001b[0m: name 'browser' is not defined"
     ]
    }
   ],
   "source": [
    "# Close browser\n",
    "browser.quit()"
   ]
  },
  {
   "cell_type": "code",
   "execution_count": null,
   "metadata": {},
   "outputs": [],
   "source": []
  }
 ],
 "metadata": {
  "kernelspec": {
   "display_name": "Python 3",
   "language": "python",
   "name": "python3"
  },
  "language_info": {
   "codemirror_mode": {
    "name": "ipython",
    "version": 3
   },
   "file_extension": ".py",
   "mimetype": "text/x-python",
   "name": "python",
   "nbconvert_exporter": "python",
   "pygments_lexer": "ipython3",
   "version": "3.8.5-final"
  }
 },
 "nbformat": 4,
 "nbformat_minor": 4
}